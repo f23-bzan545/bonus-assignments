{
 "cells": [
  {
   "cell_type": "markdown",
   "metadata": {},
   "source": [
    "## How are the vols scores affected by the weather at Neyland?\n",
    "\n",
    "<u>**Overall prompt: Make a chart showing how the temperature relates to the vols score.**</u>\n",
    "\n",
    "Ideally your python code gathers all the data, but not a requirement if you hit a big blocker.\n",
    "\n",
    "Use 1-4 below as guiding prompts."
   ]
  },
  {
   "cell_type": "code",
   "execution_count": 11,
   "metadata": {},
   "outputs": [],
   "source": [
    "# Any needed libraries here\n",
    "import requests\n",
    "\n",
    "import pandas as pd\n",
    "import plotly.express as px\n",
    "import seaborn as sns\n",
    "import matplotlib.pyplot as plt\n",
    "\n",
    "from tqdm.notebook import tqdm"
   ]
  },
  {
   "cell_type": "markdown",
   "metadata": {},
   "source": [
    "#### 1. Find/gather data on Vols football attendance for 2022 and 2023 season (this and last season)\n",
    "  * We need fields for date, time (optional but ideal), and vols score\n",
    "    * We only want home games in the chart; either filter or flag home games\n",
    "  * I used `pd.read_html()` and wikipedia\n",
    "    * eg 2023's page: https://en.wikipedia.org/wiki/2023_Tennessee_Volunteers_football_team"
   ]
  },
  {
   "cell_type": "code",
   "execution_count": 2,
   "metadata": {},
   "outputs": [],
   "source": [
    "# I'd suggest to use this cell to gather/clean data to make\n",
    "# a dataframe to accomplish your tasks\n",
    "def wiki_vols_season_df(year=2023):\n",
    "    url = f\"https://en.wikipedia.org/wiki/{year}_Tennessee_Volunteers_football_team\"\n",
    "    tables = pd.read_html(url)\n",
    "    games_dfs = [table for table in tables if \"Attendance\" in table]\n",
    "    games_df = games_dfs[0]\n",
    "\n",
    "    games_df[\"Year\"] = year\n",
    "\n",
    "    return games_df[:-1]"
   ]
  },
  {
   "cell_type": "code",
   "execution_count": 3,
   "metadata": {},
   "outputs": [
    {
     "name": "stderr",
     "output_type": "stream",
     "text": [
      "/var/folders/2h/lk98psvs47d7pf2j4k9rq2mm0000gn/T/ipykernel_90529/1539464207.py:14: UserWarning: Could not infer format, so each element will be parsed individually, falling back to `dateutil`. To ensure parsing is consistent and as-expected, please specify a format.\n",
      "  vols[\"Datetime\"] = pd.to_datetime(vols[\"Datetime\"], utc=False)\n"
     ]
    },
    {
     "data": {
      "text/html": [
       "<div>\n",
       "<style scoped>\n",
       "    .dataframe tbody tr th:only-of-type {\n",
       "        vertical-align: middle;\n",
       "    }\n",
       "\n",
       "    .dataframe tbody tr th {\n",
       "        vertical-align: top;\n",
       "    }\n",
       "\n",
       "    .dataframe thead th {\n",
       "        text-align: right;\n",
       "    }\n",
       "</style>\n",
       "<table border=\"1\" class=\"dataframe\">\n",
       "  <thead>\n",
       "    <tr style=\"text-align: right;\">\n",
       "      <th></th>\n",
       "      <th>Datetime</th>\n",
       "      <th>WinLoss</th>\n",
       "      <th>VolsScore</th>\n",
       "      <th>OppScore</th>\n",
       "    </tr>\n",
       "  </thead>\n",
       "  <tbody>\n",
       "    <tr>\n",
       "      <th>0</th>\n",
       "      <td>2022-09-01 19:00:00</td>\n",
       "      <td>W</td>\n",
       "      <td>59.0</td>\n",
       "      <td>10.0</td>\n",
       "    </tr>\n",
       "    <tr>\n",
       "      <th>1</th>\n",
       "      <td>2022-09-17 19:00:00</td>\n",
       "      <td>W</td>\n",
       "      <td>63.0</td>\n",
       "      <td>6.0</td>\n",
       "    </tr>\n",
       "    <tr>\n",
       "      <th>2</th>\n",
       "      <td>2022-09-24 15:30:00</td>\n",
       "      <td>W</td>\n",
       "      <td>38.0</td>\n",
       "      <td>33.0</td>\n",
       "    </tr>\n",
       "    <tr>\n",
       "      <th>3</th>\n",
       "      <td>2022-10-15 15:30:00</td>\n",
       "      <td>W</td>\n",
       "      <td>52.0</td>\n",
       "      <td>49.0</td>\n",
       "    </tr>\n",
       "    <tr>\n",
       "      <th>4</th>\n",
       "      <td>2022-10-22 12:00:00</td>\n",
       "      <td>W</td>\n",
       "      <td>65.0</td>\n",
       "      <td>24.0</td>\n",
       "    </tr>\n",
       "  </tbody>\n",
       "</table>\n",
       "</div>"
      ],
      "text/plain": [
       "             Datetime WinLoss  VolsScore  OppScore\n",
       "0 2022-09-01 19:00:00       W       59.0      10.0\n",
       "1 2022-09-17 19:00:00       W       63.0       6.0\n",
       "2 2022-09-24 15:30:00       W       38.0      33.0\n",
       "3 2022-10-15 15:30:00       W       52.0      49.0\n",
       "4 2022-10-22 12:00:00       W       65.0      24.0"
      ]
     },
     "execution_count": 3,
     "metadata": {},
     "output_type": "execute_result"
    }
   ],
   "source": [
    "# Get and combine data\n",
    "vols_22 = wiki_vols_season_df(2022)\n",
    "vols_23 = wiki_vols_season_df(2023)\n",
    "vols = pd.concat((vols_22, vols_23)).reset_index(drop=True)\n",
    "\n",
    "# Remove tooltip (better ways to clean but this is easy)\n",
    "vols[\"Date\"] = vols[\"Date\"].str.split(\"}\").str[-1]\n",
    "\n",
    "# Mark rows that have neyland as site as home games\n",
    "vols[\"Home\"] = vols[\"Site\"].str.contains(\"Neyland\")\n",
    "\n",
    "# Create datetime field\n",
    "vols[\"Datetime\"] = vols[\"Date\"] + \", \" + vols[\"Year\"].astype(str) + \" \" + vols[\"Time\"]\n",
    "vols[\"Datetime\"] = pd.to_datetime(vols[\"Datetime\"], utc=False)\n",
    "\n",
    "# Pull vols score from result\n",
    "vols[[\"WinLoss\", \"VolsScore\", \"OppScore\"]] = vols[\"Result\"].str.extract(\n",
    "    r\"([WL]) (\\d+)–(\\d+)\"\n",
    ")\n",
    "\n",
    "# Subset columns\n",
    "vols = vols[[\"Datetime\", \"Home\", \"WinLoss\", \"VolsScore\", \"OppScore\"]]\n",
    "\n",
    "# Filter out games that haven't happened yet\n",
    "vols = vols.dropna()\n",
    "\n",
    "vols[\"VolsScore\"] = vols[\"VolsScore\"].astype(float)\n",
    "vols[\"OppScore\"] = vols[\"OppScore\"].astype(float)\n",
    "\n",
    "# Only home games\n",
    "vols_home = vols[vols[\"Home\"]]\n",
    "vols_home = vols_home.drop(columns=[\"Home\"])\n",
    "vols_home = vols_home.reset_index(drop=True)\n",
    "\n",
    "vols_home.head()"
   ]
  },
  {
   "cell_type": "markdown",
   "metadata": {},
   "source": [
    "#### 2. Find/gather historical weather data with a web API\n",
    "  * I used `requests.get()` and https://open-meteo.com/ but you can use other things"
   ]
  },
  {
   "cell_type": "code",
   "execution_count": 4,
   "metadata": {},
   "outputs": [],
   "source": [
    "# gratis\n",
    "NEYLAND_LAT = \"35.95\"\n",
    "NEYLAND_LON = \"-83.92\""
   ]
  },
  {
   "cell_type": "markdown",
   "metadata": {},
   "source": [
    "Some API wrapper functions geared towards my processes."
   ]
  },
  {
   "cell_type": "code",
   "execution_count": 5,
   "metadata": {},
   "outputs": [],
   "source": [
    "def hourly_temps(lat, lon, start_date, end_date):\n",
    "    base_url = \"https://archive-api.open-meteo.com/v1\"\n",
    "    end_point = \"/archive\"\n",
    "\n",
    "    params = {\n",
    "        \"hourly\": \"temperature_2m\",\n",
    "        \"temperature_unit\": \"fahrenheit\",\n",
    "    }\n",
    "\n",
    "    params[\"latitude\"] = lat\n",
    "    params[\"longitude\"] = lon\n",
    "    params[\"start_date\"] = start_date\n",
    "    params[\"end_date\"] = end_date\n",
    "\n",
    "    response = requests.get(base_url + end_point, params=params)\n",
    "    response.raise_for_status()\n",
    "\n",
    "    data = response.json()\n",
    "    df = pd.DataFrame(data[\"hourly\"])\n",
    "\n",
    "    df.columns = [\"Datetime\", \"TempF\"]\n",
    "    df[\"Datetime\"] = pd.to_datetime(df[\"Datetime\"])\n",
    "\n",
    "    return df\n",
    "\n",
    "\n",
    "def hourly_temps_day(lat, lon, date):\n",
    "    return hourly_temps(lat, lon, date, date)\n",
    "\n",
    "\n",
    "def hourly_temps_day_neyland(date):\n",
    "    return hourly_temps_day(NEYLAND_LAT, NEYLAND_LON, date)\n",
    "\n",
    "\n",
    "def get_gameday_temps(datetime):\n",
    "    temps = hourly_temps_day_neyland(date)"
   ]
  },
  {
   "cell_type": "markdown",
   "metadata": {},
   "source": [
    "### Method 1\n",
    "\n",
    "Specifically asking for each date via loop.\n",
    "\n",
    "* Pros: only asking for relevant records\\* and might be easier to customize (ie I added high and low temp for the day)\n",
    "* Cons: many API calls and more code\n",
    "\n",
    "\\*depending on your API's rate limiting this might be desirable"
   ]
  },
  {
   "cell_type": "code",
   "execution_count": 6,
   "metadata": {},
   "outputs": [
    {
     "data": {
      "application/vnd.jupyter.widget-view+json": {
       "model_id": "c4e451f9bfa24c758465a245bd708bb2",
       "version_major": 2,
       "version_minor": 0
      },
      "text/plain": [
       "  0%|          | 0/12 [00:00<?, ?it/s]"
      ]
     },
     "metadata": {},
     "output_type": "display_data"
    },
    {
     "data": {
      "text/html": [
       "<div>\n",
       "<style scoped>\n",
       "    .dataframe tbody tr th:only-of-type {\n",
       "        vertical-align: middle;\n",
       "    }\n",
       "\n",
       "    .dataframe tbody tr th {\n",
       "        vertical-align: top;\n",
       "    }\n",
       "\n",
       "    .dataframe thead th {\n",
       "        text-align: right;\n",
       "    }\n",
       "</style>\n",
       "<table border=\"1\" class=\"dataframe\">\n",
       "  <thead>\n",
       "    <tr style=\"text-align: right;\">\n",
       "      <th></th>\n",
       "      <th>Datetime</th>\n",
       "      <th>WinLoss</th>\n",
       "      <th>VolsScore</th>\n",
       "      <th>OppScore</th>\n",
       "      <th>TempF</th>\n",
       "      <th>DayLowTempF</th>\n",
       "      <th>DayHiTempF</th>\n",
       "    </tr>\n",
       "  </thead>\n",
       "  <tbody>\n",
       "    <tr>\n",
       "      <th>0</th>\n",
       "      <td>2022-09-01 19:00:00</td>\n",
       "      <td>W</td>\n",
       "      <td>59.0</td>\n",
       "      <td>10.0</td>\n",
       "      <td>88.8</td>\n",
       "      <td>62.8</td>\n",
       "      <td>89.3</td>\n",
       "    </tr>\n",
       "    <tr>\n",
       "      <th>1</th>\n",
       "      <td>2022-09-17 19:00:00</td>\n",
       "      <td>W</td>\n",
       "      <td>63.0</td>\n",
       "      <td>6.0</td>\n",
       "      <td>84.4</td>\n",
       "      <td>62.0</td>\n",
       "      <td>84.4</td>\n",
       "    </tr>\n",
       "    <tr>\n",
       "      <th>2</th>\n",
       "      <td>2022-09-24 15:30:00</td>\n",
       "      <td>W</td>\n",
       "      <td>38.0</td>\n",
       "      <td>33.0</td>\n",
       "      <td>68.4</td>\n",
       "      <td>55.5</td>\n",
       "      <td>78.3</td>\n",
       "    </tr>\n",
       "    <tr>\n",
       "      <th>3</th>\n",
       "      <td>2022-10-15 15:30:00</td>\n",
       "      <td>W</td>\n",
       "      <td>52.0</td>\n",
       "      <td>49.0</td>\n",
       "      <td>68.3</td>\n",
       "      <td>53.6</td>\n",
       "      <td>77.3</td>\n",
       "    </tr>\n",
       "    <tr>\n",
       "      <th>4</th>\n",
       "      <td>2022-10-22 12:00:00</td>\n",
       "      <td>W</td>\n",
       "      <td>65.0</td>\n",
       "      <td>24.0</td>\n",
       "      <td>40.4</td>\n",
       "      <td>40.4</td>\n",
       "      <td>73.0</td>\n",
       "    </tr>\n",
       "  </tbody>\n",
       "</table>\n",
       "</div>"
      ],
      "text/plain": [
       "             Datetime WinLoss  VolsScore  OppScore  TempF  DayLowTempF   \n",
       "0 2022-09-01 19:00:00       W       59.0      10.0   88.8         62.8  \\\n",
       "1 2022-09-17 19:00:00       W       63.0       6.0   84.4         62.0   \n",
       "2 2022-09-24 15:30:00       W       38.0      33.0   68.4         55.5   \n",
       "3 2022-10-15 15:30:00       W       52.0      49.0   68.3         53.6   \n",
       "4 2022-10-22 12:00:00       W       65.0      24.0   40.4         40.4   \n",
       "\n",
       "   DayHiTempF  \n",
       "0        89.3  \n",
       "1        84.4  \n",
       "2        78.3  \n",
       "3        77.3  \n",
       "4        73.0  "
      ]
     },
     "execution_count": 6,
     "metadata": {},
     "output_type": "execute_result"
    }
   ],
   "source": [
    "records = []\n",
    "for dt in tqdm(vols_home[\"Datetime\"]):\n",
    "    date = dt.strftime(\"%Y-%m-%d\")\n",
    "\n",
    "    temps = hourly_temps_day_neyland(date)\n",
    "\n",
    "    closest_to_kickoff_i = (temps[\"Datetime\"] - dt).abs().idxmin()\n",
    "    kickoff_temp = temps.loc[closest_to_kickoff_i, \"TempF\"]\n",
    "\n",
    "    record = {\n",
    "        \"TempF\": kickoff_temp,\n",
    "        \"DayLowTempF\": temps[\"TempF\"].min(),\n",
    "        \"DayHiTempF\": temps[\"TempF\"].max(),\n",
    "    }\n",
    "\n",
    "    records.append(record)\n",
    "\n",
    "game_temps = pd.DataFrame(records)\n",
    "vols_home_temps = pd.concat((vols_home, game_temps), axis=1)\n",
    "\n",
    "vols_home_temps.head()"
   ]
  },
  {
   "cell_type": "markdown",
   "metadata": {},
   "source": [
    "### Method 2\n",
    "\n",
    "Ask for whole date range and use a fancy join.\n",
    "\n",
    "* Pros: lower code and only one API call\\*\n",
    "* Cons: asks for so much superfluous data (might not scale)\n",
    "\n",
    "\\*depending on your API's rate limiting this might be desirable"
   ]
  },
  {
   "cell_type": "code",
   "execution_count": 7,
   "metadata": {},
   "outputs": [
    {
     "data": {
      "text/html": [
       "<div>\n",
       "<style scoped>\n",
       "    .dataframe tbody tr th:only-of-type {\n",
       "        vertical-align: middle;\n",
       "    }\n",
       "\n",
       "    .dataframe tbody tr th {\n",
       "        vertical-align: top;\n",
       "    }\n",
       "\n",
       "    .dataframe thead th {\n",
       "        text-align: right;\n",
       "    }\n",
       "</style>\n",
       "<table border=\"1\" class=\"dataframe\">\n",
       "  <thead>\n",
       "    <tr style=\"text-align: right;\">\n",
       "      <th></th>\n",
       "      <th>Datetime</th>\n",
       "      <th>WinLoss</th>\n",
       "      <th>VolsScore</th>\n",
       "      <th>OppScore</th>\n",
       "      <th>TempF</th>\n",
       "    </tr>\n",
       "  </thead>\n",
       "  <tbody>\n",
       "    <tr>\n",
       "      <th>0</th>\n",
       "      <td>2022-09-01 19:00:00</td>\n",
       "      <td>W</td>\n",
       "      <td>59.0</td>\n",
       "      <td>10.0</td>\n",
       "      <td>88.8</td>\n",
       "    </tr>\n",
       "    <tr>\n",
       "      <th>1</th>\n",
       "      <td>2022-09-17 19:00:00</td>\n",
       "      <td>W</td>\n",
       "      <td>63.0</td>\n",
       "      <td>6.0</td>\n",
       "      <td>84.4</td>\n",
       "    </tr>\n",
       "    <tr>\n",
       "      <th>2</th>\n",
       "      <td>2022-09-24 15:30:00</td>\n",
       "      <td>W</td>\n",
       "      <td>38.0</td>\n",
       "      <td>33.0</td>\n",
       "      <td>68.4</td>\n",
       "    </tr>\n",
       "    <tr>\n",
       "      <th>3</th>\n",
       "      <td>2022-10-15 15:30:00</td>\n",
       "      <td>W</td>\n",
       "      <td>52.0</td>\n",
       "      <td>49.0</td>\n",
       "      <td>68.3</td>\n",
       "    </tr>\n",
       "    <tr>\n",
       "      <th>4</th>\n",
       "      <td>2022-10-22 12:00:00</td>\n",
       "      <td>W</td>\n",
       "      <td>65.0</td>\n",
       "      <td>24.0</td>\n",
       "      <td>40.4</td>\n",
       "    </tr>\n",
       "  </tbody>\n",
       "</table>\n",
       "</div>"
      ],
      "text/plain": [
       "             Datetime WinLoss  VolsScore  OppScore  TempF\n",
       "0 2022-09-01 19:00:00       W       59.0      10.0   88.8\n",
       "1 2022-09-17 19:00:00       W       63.0       6.0   84.4\n",
       "2 2022-09-24 15:30:00       W       38.0      33.0   68.4\n",
       "3 2022-10-15 15:30:00       W       52.0      49.0   68.3\n",
       "4 2022-10-22 12:00:00       W       65.0      24.0   40.4"
      ]
     },
     "execution_count": 7,
     "metadata": {},
     "output_type": "execute_result"
    }
   ],
   "source": [
    "all_date_strs = vols_home[\"Datetime\"].dt.strftime(\"%Y-%m-%d\")\n",
    "\n",
    "min_date = min(vols_home[\"Datetime\"]).strftime(\"%Y-%m-%d\")\n",
    "max_date = max(vols_home[\"Datetime\"]).strftime(\"%Y-%m-%d\")\n",
    "\n",
    "temps = hourly_temps(\n",
    "    lat=NEYLAND_LAT,\n",
    "    lon=NEYLAND_LON,\n",
    "    start_date=min_date,\n",
    "    end_date=max_date,\n",
    ")\n",
    "\n",
    "vols_home_temps = pd.merge_asof(vols_home, temps, on=\"Datetime\")\n",
    "\n",
    "vols_home_temps.head()"
   ]
  },
  {
   "cell_type": "markdown",
   "metadata": {},
   "source": [
    "#### 3. How do the scores and temps relate?\n",
    "\n",
    "  * Calculate a correlation coefficient for temp vs score\n",
    "  * Make a plot of the temp vs score\n",
    "    * If you're feeling fancy; add the cor value to the plot title or other plot place"
   ]
  },
  {
   "cell_type": "code",
   "execution_count": 8,
   "metadata": {},
   "outputs": [
    {
     "data": {
      "text/plain": [
       "-0.3768973220743457"
      ]
     },
     "execution_count": 8,
     "metadata": {},
     "output_type": "execute_result"
    }
   ],
   "source": [
    "vols_home_temps[\"VolsScore\"].corr(vols_home_temps[\"TempF\"])"
   ]
  },
  {
   "cell_type": "code",
   "execution_count": 13,
   "metadata": {},
   "outputs": [
    {
     "data": {
      "image/png": "[encoded data removed]",
      "text/plain": [
       "<Figure size 640x480 with 1 Axes>"
      ]
     },
     "metadata": {},
     "output_type": "display_data"
    }
   ],
   "source": [
    "sns.scatterplot(data=vols_home_temps, x=\"TempF\", y=\"VolsScore\", hue=\"OppScore\")\n",
    "plt.show()"
   ]
  },
  {
   "cell_type": "code",
   "execution_count": 10,
   "metadata": {},
   "outputs": [
    {
     "data": {
      "application/vnd.plotly.v1+json": {
       "config": {
        "plotlyServerURL": "https://plot.ly"
       },
       "data": [
        {
         "hovertemplate": "TempF=%{x}<br>VolsScore=%{y}<br>OppScore=%{marker.color}<extra></extra>",
         "legendgroup": "",
         "marker": {
          "color": [
           10,
           6,
           33,
           49,
           24,
           6,
           24,
           13,
           14,
           20,
           13,
           3
          ],
          "coloraxis": "coloraxis",
          "symbol": "circle"
         },
         "mode": "markers",
         "name": "",
         "orientation": "v",
         "showlegend": false,
         "type": "scatter",
         "x": [
          88.8,
          84.4,
          68.4,
          68.3,
          40.4,
          73.1,
          55.2,
          83.3,
          74.9,
          83.8,
          69,
          35.4
         ],
         "xaxis": "x",
         "y": [
          59,
          63,
          38,
          52,
          65,
          44,
          66,
          30,
          45,
          41,
          20,
          59
         ],
         "yaxis": "y"
        },
        {
         "hovertemplate": "<b>OLS trendline</b><br>VolsScore = -0.322598 * TempF + 70.6786<br>R<sup>2</sup>=0.142052<br><br>TempF=%{x}<br>VolsScore=%{y} <b>(trend)</b><extra></extra>",
         "legendgroup": "",
         "marker": {
          "symbol": "circle"
         },
         "mode": "lines",
         "name": "",
         "showlegend": false,
         "type": "scatter",
         "x": [
          35.4,
          40.4,
          55.2,
          68.3,
          68.4,
          69,
          73.1,
          74.9,
          83.3,
          83.8,
          84.4,
          88.8
         ],
         "xaxis": "x",
         "y": [
          59.25862866731857,
          57.64564086112388,
          52.87119695478759,
          48.64516890255751,
          48.61290914643361,
          48.419350609690255,
          47.096700608610604,
          46.516024998380516,
          43.80620548397344,
          43.64490670335397,
          43.4513481666106,
          42.03191889715928
         ],
         "yaxis": "y"
        }
       ],
       "layout": {
        "coloraxis": {
         "colorbar": {
          "title": {
           "text": "OppScore"
          }
         },
         "colorscale": [
          [
           0,
           "#0d0887"
          ],
          [
           0.1111111111111111,
           "#46039f"
          ],
          [
           0.2222222222222222,
           "#7201a8"
          ],
          [
           0.3333333333333333,
           "#9c179e"
          ],
          [
           0.4444444444444444,
           "#bd3786"
          ],
          [
           0.5555555555555556,
           "#d8576b"
          ],
          [
           0.6666666666666666,
           "#ed7953"
          ],
          [
           0.7777777777777778,
           "#fb9f3a"
          ],
          [
           0.8888888888888888,
           "#fdca26"
          ],
          [
           1,
           "#f0f921"
          ]
         ]
        },
        "legend": {
         "tracegroupgap": 0
        },
        "margin": {
         "t": 60
        },
        "template": {
         "data": {
          "bar": [
           {
            "error_x": {
             "color": "#2a3f5f"
            },
            "error_y": {
             "color": "#2a3f5f"
            },
            "marker": {
             "line": {
              "color": "#E5ECF6",
              "width": 0.5
             },
             "pattern": {
              "fillmode": "overlay",
              "size": 10,
              "solidity": 0.2
             }
            },
            "type": "bar"
           }
          ],
          "barpolar": [
           {
            "marker": {
             "line": {
              "color": "#E5ECF6",
              "width": 0.5
             },
             "pattern": {
              "fillmode": "overlay",
              "size": 10,
              "solidity": 0.2
             }
            },
            "type": "barpolar"
           }
          ],
          "carpet": [
           {
            "aaxis": {
             "endlinecolor": "#2a3f5f",
             "gridcolor": "white",
             "linecolor": "white",
             "minorgridcolor": "white",
             "startlinecolor": "#2a3f5f"
            },
            "baxis": {
             "endlinecolor": "#2a3f5f",
             "gridcolor": "white",
             "linecolor": "white",
             "minorgridcolor": "white",
             "startlinecolor": "#2a3f5f"
            },
            "type": "carpet"
           }
          ],
          "choropleth": [
           {
            "colorbar": {
             "outlinewidth": 0,
             "ticks": ""
            },
            "type": "choropleth"
           }
          ],
          "contour": [
           {
            "colorbar": {
             "outlinewidth": 0,
             "ticks": ""
            },
            "colorscale": [
             [
              0,
              "#0d0887"
             ],
             [
              0.1111111111111111,
              "#46039f"
             ],
             [
              0.2222222222222222,
              "#7201a8"
             ],
             [
              0.3333333333333333,
              "#9c179e"
             ],
             [
              0.4444444444444444,
              "#bd3786"
             ],
             [
              0.5555555555555556,
              "#d8576b"
             ],
             [
              0.6666666666666666,
              "#ed7953"
             ],
             [
              0.7777777777777778,
              "#fb9f3a"
             ],
             [
              0.8888888888888888,
              "#fdca26"
             ],
             [
              1,
              "#f0f921"
             ]
            ],
            "type": "contour"
           }
          ],
          "contourcarpet": [
           {
            "colorbar": {
             "outlinewidth": 0,
             "ticks": ""
            },
            "type": "contourcarpet"
           }
          ],
          "heatmap": [
           {
            "colorbar": {
             "outlinewidth": 0,
             "ticks": ""
            },
            "colorscale": [
             [
              0,
              "#0d0887"
             ],
             [
              0.1111111111111111,
              "#46039f"
             ],
             [
              0.2222222222222222,
              "#7201a8"
             ],
             [
              0.3333333333333333,
              "#9c179e"
             ],
             [
              0.4444444444444444,
              "#bd3786"
             ],
             [
              0.5555555555555556,
              "#d8576b"
             ],
             [
              0.6666666666666666,
              "#ed7953"
             ],
             [
              0.7777777777777778,
              "#fb9f3a"
             ],
             [
              0.8888888888888888,
              "#fdca26"
             ],
             [
              1,
              "#f0f921"
             ]
            ],
            "type": "heatmap"
           }
          ],
          "heatmapgl": [
           {
            "colorbar": {
             "outlinewidth": 0,
             "ticks": ""
            },
            "colorscale": [
             [
              0,
              "#0d0887"
             ],
             [
              0.1111111111111111,
              "#46039f"
             ],
             [
              0.2222222222222222,
              "#7201a8"
             ],
             [
              0.3333333333333333,
              "#9c179e"
             ],
             [
              0.4444444444444444,
              "#bd3786"
             ],
             [
              0.5555555555555556,
              "#d8576b"
             ],
             [
              0.6666666666666666,
              "#ed7953"
             ],
             [
              0.7777777777777778,
              "#fb9f3a"
             ],
             [
              0.8888888888888888,
              "#fdca26"
             ],
             [
              1,
              "#f0f921"
             ]
            ],
            "type": "heatmapgl"
           }
          ],
          "histogram": [
           {
            "marker": {
             "pattern": {
              "fillmode": "overlay",
              "size": 10,
              "solidity": 0.2
             }
            },
            "type": "histogram"
           }
          ],
          "histogram2d": [
           {
            "colorbar": {
             "outlinewidth": 0,
             "ticks": ""
            },
            "colorscale": [
             [
              0,
              "#0d0887"
             ],
             [
              0.1111111111111111,
              "#46039f"
             ],
             [
              0.2222222222222222,
              "#7201a8"
             ],
             [
              0.3333333333333333,
              "#9c179e"
             ],
             [
              0.4444444444444444,
              "#bd3786"
             ],
             [
              0.5555555555555556,
              "#d8576b"
             ],
             [
              0.6666666666666666,
              "#ed7953"
             ],
             [
              0.7777777777777778,
              "#fb9f3a"
             ],
             [
              0.8888888888888888,
              "#fdca26"
             ],
             [
              1,
              "#f0f921"
             ]
            ],
            "type": "histogram2d"
           }
          ],
          "histogram2dcontour": [
           {
            "colorbar": {
             "outlinewidth": 0,
             "ticks": ""
            },
            "colorscale": [
             [
              0,
              "#0d0887"
             ],
             [
              0.1111111111111111,
              "#46039f"
             ],
             [
              0.2222222222222222,
              "#7201a8"
             ],
             [
              0.3333333333333333,
              "#9c179e"
             ],
             [
              0.4444444444444444,
              "#bd3786"
             ],
             [
              0.5555555555555556,
              "#d8576b"
             ],
             [
              0.6666666666666666,
              "#ed7953"
             ],
             [
              0.7777777777777778,
              "#fb9f3a"
             ],
             [
              0.8888888888888888,
              "#fdca26"
             ],
             [
              1,
              "#f0f921"
             ]
            ],
            "type": "histogram2dcontour"
           }
          ],
          "mesh3d": [
           {
            "colorbar": {
             "outlinewidth": 0,
             "ticks": ""
            },
            "type": "mesh3d"
           }
          ],
          "parcoords": [
           {
            "line": {
             "colorbar": {
              "outlinewidth": 0,
              "ticks": ""
             }
            },
            "type": "parcoords"
           }
          ],
          "pie": [
           {
            "automargin": true,
            "type": "pie"
           }
          ],
          "scatter": [
           {
            "fillpattern": {
             "fillmode": "overlay",
             "size": 10,
             "solidity": 0.2
            },
            "type": "scatter"
           }
          ],
          "scatter3d": [
           {
            "line": {
             "colorbar": {
              "outlinewidth": 0,
              "ticks": ""
             }
            },
            "marker": {
             "colorbar": {
              "outlinewidth": 0,
              "ticks": ""
             }
            },
            "type": "scatter3d"
           }
          ],
          "scattercarpet": [
           {
            "marker": {
             "colorbar": {
              "outlinewidth": 0,
              "ticks": ""
             }
            },
            "type": "scattercarpet"
           }
          ],
          "scattergeo": [
           {
            "marker": {
             "colorbar": {
              "outlinewidth": 0,
              "ticks": ""
             }
            },
            "type": "scattergeo"
           }
          ],
          "scattergl": [
           {
            "marker": {
             "colorbar": {
              "outlinewidth": 0,
              "ticks": ""
             }
            },
            "type": "scattergl"
           }
          ],
          "scattermapbox": [
           {
            "marker": {
             "colorbar": {
              "outlinewidth": 0,
              "ticks": ""
             }
            },
            "type": "scattermapbox"
           }
          ],
          "scatterpolar": [
           {
            "marker": {
             "colorbar": {
              "outlinewidth": 0,
              "ticks": ""
             }
            },
            "type": "scatterpolar"
           }
          ],
          "scatterpolargl": [
           {
            "marker": {
             "colorbar": {
              "outlinewidth": 0,
              "ticks": ""
             }
            },
            "type": "scatterpolargl"
           }
          ],
          "scatterternary": [
           {
            "marker": {
             "colorbar": {
              "outlinewidth": 0,
              "ticks": ""
             }
            },
            "type": "scatterternary"
           }
          ],
          "surface": [
           {
            "colorbar": {
             "outlinewidth": 0,
             "ticks": ""
            },
            "colorscale": [
             [
              0,
              "#0d0887"
             ],
             [
              0.1111111111111111,
              "#46039f"
             ],
             [
              0.2222222222222222,
              "#7201a8"
             ],
             [
              0.3333333333333333,
              "#9c179e"
             ],
             [
              0.4444444444444444,
              "#bd3786"
             ],
             [
              0.5555555555555556,
              "#d8576b"
             ],
             [
              0.6666666666666666,
              "#ed7953"
             ],
             [
              0.7777777777777778,
              "#fb9f3a"
             ],
             [
              0.8888888888888888,
              "#fdca26"
             ],
             [
              1,
              "#f0f921"
             ]
            ],
            "type": "surface"
           }
          ],
          "table": [
           {
            "cells": {
             "fill": {
              "color": "#EBF0F8"
             },
             "line": {
              "color": "white"
             }
            },
            "header": {
             "fill": {
              "color": "#C8D4E3"
             },
             "line": {
              "color": "white"
             }
            },
            "type": "table"
           }
          ]
         },
         "layout": {
          "annotationdefaults": {
           "arrowcolor": "#2a3f5f",
           "arrowhead": 0,
           "arrowwidth": 1
          },
          "autotypenumbers": "strict",
          "coloraxis": {
           "colorbar": {
            "outlinewidth": 0,
            "ticks": ""
           }
          },
          "colorscale": {
           "diverging": [
            [
             0,
             "#8e0152"
            ],
            [
             0.1,
             "#c51b7d"
            ],
            [
             0.2,
             "#de77ae"
            ],
            [
             0.3,
             "#f1b6da"
            ],
            [
             0.4,
             "#fde0ef"
            ],
            [
             0.5,
             "#f7f7f7"
            ],
            [
             0.6,
             "#e6f5d0"
            ],
            [
             0.7,
             "#b8e186"
            ],
            [
             0.8,
             "#7fbc41"
            ],
            [
             0.9,
             "#4d9221"
            ],
            [
             1,
             "#276419"
            ]
           ],
           "sequential": [
            [
             0,
             "#0d0887"
            ],
            [
             0.1111111111111111,
             "#46039f"
            ],
            [
             0.2222222222222222,
             "#7201a8"
            ],
            [
             0.3333333333333333,
             "#9c179e"
            ],
            [
             0.4444444444444444,
             "#bd3786"
            ],
            [
             0.5555555555555556,
             "#d8576b"
            ],
            [
             0.6666666666666666,
             "#ed7953"
            ],
            [
             0.7777777777777778,
             "#fb9f3a"
            ],
            [
             0.8888888888888888,
             "#fdca26"
            ],
            [
             1,
             "#f0f921"
            ]
           ],
           "sequentialminus": [
            [
             0,
             "#0d0887"
            ],
            [
             0.1111111111111111,
             "#46039f"
            ],
            [
             0.2222222222222222,
             "#7201a8"
            ],
            [
             0.3333333333333333,
             "#9c179e"
            ],
            [
             0.4444444444444444,
             "#bd3786"
            ],
            [
             0.5555555555555556,
             "#d8576b"
            ],
            [
             0.6666666666666666,
             "#ed7953"
            ],
            [
             0.7777777777777778,
             "#fb9f3a"
            ],
            [
             0.8888888888888888,
             "#fdca26"
            ],
            [
             1,
             "#f0f921"
            ]
           ]
          },
          "colorway": [
           "#636efa",
           "#EF553B",
           "#00cc96",
           "#ab63fa",
           "#FFA15A",
           "#19d3f3",
           "#FF6692",
           "#B6E880",
           "#FF97FF",
           "#FECB52"
          ],
          "font": {
           "color": "#2a3f5f"
          },
          "geo": {
           "bgcolor": "white",
           "lakecolor": "white",
           "landcolor": "#E5ECF6",
           "showlakes": true,
           "showland": true,
           "subunitcolor": "white"
          },
          "hoverlabel": {
           "align": "left"
          },
          "hovermode": "closest",
          "mapbox": {
           "style": "light"
          },
          "paper_bgcolor": "white",
          "plot_bgcolor": "#E5ECF6",
          "polar": {
           "angularaxis": {
            "gridcolor": "white",
            "linecolor": "white",
            "ticks": ""
           },
           "bgcolor": "#E5ECF6",
           "radialaxis": {
            "gridcolor": "white",
            "linecolor": "white",
            "ticks": ""
           }
          },
          "scene": {
           "xaxis": {
            "backgroundcolor": "#E5ECF6",
            "gridcolor": "white",
            "gridwidth": 2,
            "linecolor": "white",
            "showbackground": true,
            "ticks": "",
            "zerolinecolor": "white"
           },
           "yaxis": {
            "backgroundcolor": "#E5ECF6",
            "gridcolor": "white",
            "gridwidth": 2,
            "linecolor": "white",
            "showbackground": true,
            "ticks": "",
            "zerolinecolor": "white"
           },
           "zaxis": {
            "backgroundcolor": "#E5ECF6",
            "gridcolor": "white",
            "gridwidth": 2,
            "linecolor": "white",
            "showbackground": true,
            "ticks": "",
            "zerolinecolor": "white"
           }
          },
          "shapedefaults": {
           "line": {
            "color": "#2a3f5f"
           }
          },
          "ternary": {
           "aaxis": {
            "gridcolor": "white",
            "linecolor": "white",
            "ticks": ""
           },
           "baxis": {
            "gridcolor": "white",
            "linecolor": "white",
            "ticks": ""
           },
           "bgcolor": "#E5ECF6",
           "caxis": {
            "gridcolor": "white",
            "linecolor": "white",
            "ticks": ""
           }
          },
          "title": {
           "x": 0.05
          },
          "xaxis": {
           "automargin": true,
           "gridcolor": "white",
           "linecolor": "white",
           "ticks": "",
           "title": {
            "standoff": 15
           },
           "zerolinecolor": "white",
           "zerolinewidth": 2
          },
          "yaxis": {
           "automargin": true,
           "gridcolor": "white",
           "linecolor": "white",
           "ticks": "",
           "title": {
            "standoff": 15
           },
           "zerolinecolor": "white",
           "zerolinewidth": 2
          }
         }
        },
        "xaxis": {
         "anchor": "y",
         "domain": [
          0,
          1
         ],
         "title": {
          "text": "TempF"
         }
        },
        "yaxis": {
         "anchor": "x",
         "domain": [
          0,
          1
         ],
         "title": {
          "text": "VolsScore"
         }
        }
       }
      }
     },
     "metadata": {},
     "output_type": "display_data"
    },
    {
     "name": "stderr",
     "output_type": "stream",
     "text": [
      "/usr/local/lib/python3.11/site-packages/scipy/stats/_stats_py.py:1806: UserWarning:\n",
      "\n",
      "kurtosistest only valid for n>=20 ... continuing anyway, n=12\n",
      "\n"
     ]
    },
    {
     "data": {
      "text/html": [
       "<table class=\"simpletable\">\n",
       "<caption>OLS Regression Results</caption>\n",
       "<tr>\n",
       "  <th>Dep. Variable:</th>            <td>y</td>        <th>  R-squared:         </th> <td>   0.142</td>\n",
       "</tr>\n",
       "<tr>\n",
       "  <th>Model:</th>                   <td>OLS</td>       <th>  Adj. R-squared:    </th> <td>   0.056</td>\n",
       "</tr>\n",
       "<tr>\n",
       "  <th>Method:</th>             <td>Least Squares</td>  <th>  F-statistic:       </th> <td>   1.656</td>\n",
       "</tr>\n",
       "<tr>\n",
       "  <th>Date:</th>             <td>Thu, 09 Nov 2023</td> <th>  Prob (F-statistic):</th>  <td> 0.227</td> \n",
       "</tr>\n",
       "<tr>\n",
       "  <th>Time:</th>                 <td>11:43:20</td>     <th>  Log-Likelihood:    </th> <td> -47.835</td>\n",
       "</tr>\n",
       "<tr>\n",
       "  <th>No. Observations:</th>      <td>    12</td>      <th>  AIC:               </th> <td>   99.67</td>\n",
       "</tr>\n",
       "<tr>\n",
       "  <th>Df Residuals:</th>          <td>    10</td>      <th>  BIC:               </th> <td>   100.6</td>\n",
       "</tr>\n",
       "<tr>\n",
       "  <th>Df Model:</th>              <td>     1</td>      <th>                     </th>     <td> </td>   \n",
       "</tr>\n",
       "<tr>\n",
       "  <th>Covariance Type:</th>      <td>nonrobust</td>    <th>                     </th>     <td> </td>   \n",
       "</tr>\n",
       "</table>\n",
       "<table class=\"simpletable\">\n",
       "<tr>\n",
       "    <td></td>       <th>coef</th>     <th>std err</th>      <th>t</th>      <th>P>|t|</th>  <th>[0.025</th>    <th>0.975]</th>  \n",
       "</tr>\n",
       "<tr>\n",
       "  <th>const</th> <td>   70.6786</td> <td>   17.722</td> <td>    3.988</td> <td> 0.003</td> <td>   31.192</td> <td>  110.165</td>\n",
       "</tr>\n",
       "<tr>\n",
       "  <th>x1</th>    <td>   -0.3226</td> <td>    0.251</td> <td>   -1.287</td> <td> 0.227</td> <td>   -0.881</td> <td>    0.236</td>\n",
       "</tr>\n",
       "</table>\n",
       "<table class=\"simpletable\">\n",
       "<tr>\n",
       "  <th>Omnibus:</th>       <td> 0.971</td> <th>  Durbin-Watson:     </th> <td>   1.039</td>\n",
       "</tr>\n",
       "<tr>\n",
       "  <th>Prob(Omnibus):</th> <td> 0.615</td> <th>  Jarque-Bera (JB):  </th> <td>   0.417</td>\n",
       "</tr>\n",
       "<tr>\n",
       "  <th>Skew:</th>          <td>-0.444</td> <th>  Prob(JB):          </th> <td>   0.812</td>\n",
       "</tr>\n",
       "<tr>\n",
       "  <th>Kurtosis:</th>      <td> 2.784</td> <th>  Cond. No.          </th> <td>    304.</td>\n",
       "</tr>\n",
       "</table><br/><br/>Notes:<br/>[1] Standard Errors assume that the covariance matrix of the errors is correctly specified."
      ],
      "text/latex": [
       "\\begin{center}\n",
       "\\begin{tabular}{lclc}\n",
       "\\toprule\n",
       "\\textbf{Dep. Variable:}    &        y         & \\textbf{  R-squared:         } &     0.142   \\\\\n",
       "\\textbf{Model:}            &       OLS        & \\textbf{  Adj. R-squared:    } &     0.056   \\\\\n",
       "\\textbf{Method:}           &  Least Squares   & \\textbf{  F-statistic:       } &     1.656   \\\\\n",
       "\\textbf{Date:}             & Thu, 09 Nov 2023 & \\textbf{  Prob (F-statistic):} &    0.227    \\\\\n",
       "\\textbf{Time:}             &     11:43:20     & \\textbf{  Log-Likelihood:    } &   -47.835   \\\\\n",
       "\\textbf{No. Observations:} &          12      & \\textbf{  AIC:               } &     99.67   \\\\\n",
       "\\textbf{Df Residuals:}     &          10      & \\textbf{  BIC:               } &     100.6   \\\\\n",
       "\\textbf{Df Model:}         &           1      & \\textbf{                     } &             \\\\\n",
       "\\textbf{Covariance Type:}  &    nonrobust     & \\textbf{                     } &             \\\\\n",
       "\\bottomrule\n",
       "\\end{tabular}\n",
       "\\begin{tabular}{lcccccc}\n",
       "               & \\textbf{coef} & \\textbf{std err} & \\textbf{t} & \\textbf{P$> |$t$|$} & \\textbf{[0.025} & \\textbf{0.975]}  \\\\\n",
       "\\midrule\n",
       "\\textbf{const} &      70.6786  &       17.722     &     3.988  &         0.003        &       31.192    &      110.165     \\\\\n",
       "\\textbf{x1}    &      -0.3226  &        0.251     &    -1.287  &         0.227        &       -0.881    &        0.236     \\\\\n",
       "\\bottomrule\n",
       "\\end{tabular}\n",
       "\\begin{tabular}{lclc}\n",
       "\\textbf{Omnibus:}       &  0.971 & \\textbf{  Durbin-Watson:     } &    1.039  \\\\\n",
       "\\textbf{Prob(Omnibus):} &  0.615 & \\textbf{  Jarque-Bera (JB):  } &    0.417  \\\\\n",
       "\\textbf{Skew:}          & -0.444 & \\textbf{  Prob(JB):          } &    0.812  \\\\\n",
       "\\textbf{Kurtosis:}      &  2.784 & \\textbf{  Cond. No.          } &     304.  \\\\\n",
       "\\bottomrule\n",
       "\\end{tabular}\n",
       "%\\caption{OLS Regression Results}\n",
       "\\end{center}\n",
       "\n",
       "Notes: \\newline\n",
       " [1] Standard Errors assume that the covariance matrix of the errors is correctly specified."
      ],
      "text/plain": [
       "<class 'statsmodels.iolib.summary.Summary'>\n",
       "\"\"\"\n",
       "                            OLS Regression Results                            \n",
       "==============================================================================\n",
       "Dep. Variable:                      y   R-squared:                       0.142\n",
       "Model:                            OLS   Adj. R-squared:                  0.056\n",
       "Method:                 Least Squares   F-statistic:                     1.656\n",
       "Date:                Thu, 09 Nov 2023   Prob (F-statistic):              0.227\n",
       "Time:                        11:43:20   Log-Likelihood:                -47.835\n",
       "No. Observations:                  12   AIC:                             99.67\n",
       "Df Residuals:                      10   BIC:                             100.6\n",
       "Df Model:                           1                                         \n",
       "Covariance Type:            nonrobust                                         \n",
       "==============================================================================\n",
       "                 coef    std err          t      P>|t|      [0.025      0.975]\n",
       "------------------------------------------------------------------------------\n",
       "const         70.6786     17.722      3.988      0.003      31.192     110.165\n",
       "x1            -0.3226      0.251     -1.287      0.227      -0.881       0.236\n",
       "==============================================================================\n",
       "Omnibus:                        0.971   Durbin-Watson:                   1.039\n",
       "Prob(Omnibus):                  0.615   Jarque-Bera (JB):                0.417\n",
       "Skew:                          -0.444   Prob(JB):                        0.812\n",
       "Kurtosis:                       2.784   Cond. No.                         304.\n",
       "==============================================================================\n",
       "\n",
       "Notes:\n",
       "[1] Standard Errors assume that the covariance matrix of the errors is correctly specified.\n",
       "\"\"\""
      ]
     },
     "execution_count": 10,
     "metadata": {},
     "output_type": "execute_result"
    }
   ],
   "source": [
    "fig = px.scatter(\n",
    "    vols_home_temps,\n",
    "    x=\"TempF\",\n",
    "    y=\"VolsScore\",\n",
    "    color=\"OppScore\",\n",
    "    trendline=\"ols\",\n",
    ")\n",
    "fig.show()\n",
    "\n",
    "results = px.get_trendline_results(fig)\n",
    "results.iloc[0, 0].summary()"
   ]
  },
  {
   "cell_type": "markdown",
   "metadata": {},
   "source": [
    "#### 4. Interpret the chart from 3\n",
    "\n",
    "Correlation hints at a negative relationship.  Simple linear regression shows no siginificant relationship ($p \\approx 0.23$ & $R^2 \\approx 0.14$)\n",
    "\n",
    "The scatter plot shows that the negative relationship is largely due to 3 high leverage outliers (w/higher points & lower temps).\n",
    "\n",
    "There's not enough evidence to claim the Vols are better in hot or cold weather... yet..."
   ]
  }
 ],
 "metadata": {
  "kernelspec": {
   "display_name": "Python 3",
   "language": "python",
   "name": "python3"
  },
  "language_info": {
   "codemirror_mode": {
    "name": "ipython",
    "version": 3
   },
   "file_extension": ".py",
   "mimetype": "text/x-python",
   "name": "python",
   "nbconvert_exporter": "python",
   "pygments_lexer": "ipython3",
   "version": "3.11.5"
  }
 },
 "nbformat": 4,
 "nbformat_minor": 2
}
