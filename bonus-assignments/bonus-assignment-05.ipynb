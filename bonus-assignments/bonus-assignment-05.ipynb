{
 "cells": [
  {
   "cell_type": "markdown",
   "metadata": {},
   "source": [
    "Do your work in this file.  Please submit as a notebook with the cells run (ie your table output and plot output visible).  If the output isn't visible to you when submitting, then we can't see the output to grade on github.  I'm happy to double check submissions if you're getting things in with some time to spare."
   ]
  },
  {
   "cell_type": "markdown",
   "metadata": {},
   "source": [
    "#### Prompt 1 - Create a `credentials.json` file\n",
    "\n",
    "Format of credentials.json file\n",
    "\n",
    "```json\n",
    "{\n",
    "  \"host\": \"mariadb-compx0.oit.utk.edu\",\n",
    "  \"port\": 3306,\n",
    "  \"username\": \"yourusername\",\n",
    "  \"password\": \"***********\"\n",
    "}\n",
    "```\n",
    "\n",
    "-------\n",
    "\n",
    "#### Prompt 2 - Add `credentials.json` to your repo's `.gitignore` file\n",
    "\n",
    "-------\n",
    "\n",
    "#### Prompt 3 - Explain what adding a file to `.gitignore` does and why it's a good idea here?\n",
    "\n",
    "-------"
   ]
  },
  {
   "cell_type": "code",
   "execution_count": null,
   "metadata": {},
   "outputs": [],
   "source": [
    "# Please answer #3 here as a comment (it makes it stand out for us to grade easier)\n",
    "#\n",
    "#"
   ]
  },
  {
   "cell_type": "markdown",
   "metadata": {},
   "source": [
    "#### Prompt 4 - Connect to the SQL database `aspannba_stackexchange`\n",
    "\n",
    "--------"
   ]
  },
  {
   "cell_type": "code",
   "execution_count": 1,
   "metadata": {},
   "outputs": [],
   "source": []
  },
  {
   "cell_type": "markdown",
   "metadata": {},
   "source": [
    "Answer the below prompts using the tables in the database described above.\n",
    "\n",
    "----------\n",
    "\n",
    "Data description\n",
    "\n",
    "> * `table_name` - table description\n",
    ">   * `column_name` - column description\n",
    "\n",
    "* `uber_pickups` - info on number of uber pickups; each record represents an hour of pickups\n",
    "  * `pickup_dt` - datetime of the record\n",
    "  * `borough_id` - what borough the pickups occurred (aka where it was)\n",
    "  * `holiday` - Y/N - was the day a holiday?\n",
    "  * `pickups` - total number of uber pickups at that hour in that borough\n",
    "* `uber_boroughs` - holds names of boroughs\n",
    "  * `id` - borough id\n",
    "  * `borough` - borough name\n",
    "* `uber_weather` - holds information about the weather at the times of pickups\n",
    "  * `datetime` - datetime of the record\n",
    "  * `borough_id` - uhhhhh\n",
    "  * `wind_speed_mph` - pretty good col name\n",
    "  * `visibility_miles` - nothing to add\n",
    "  * `temp_f` - temp in farenheit\n",
    "  * `dewpoint_f` - f for farenheit\n",
    "  * `sea_level_pressure` - yup\n",
    "  * `precip_1_hr_in` - total inches of liquid precipitation in last hour\n",
    "  * `precip_6_hr_in` - total inches of liquid precipitation in last 6 hours\n",
    "  * `precip_24_hr_in` - total inches of liquid precipitation in last 24 hours\n",
    "  * `snow_depth_in` - nice\n",
    "\n",
    "-------"
   ]
  },
  {
   "cell_type": "markdown",
   "metadata": {},
   "source": [
    "#### Prompt 5 - Create a <u>*user facing*</u> table that shows the average and total pickups by borough.  Sort the table in some meaningful way. Rename columns to appear nice.  Optional: consider add conditional formatting using [`.background_gradient()`](https://pandas.pydata.org/docs/reference/api/pandas.io.formats.style.Styler.background_gradient.html)\n",
    "\n",
    "-------"
   ]
  },
  {
   "cell_type": "code",
   "execution_count": null,
   "metadata": {},
   "outputs": [],
   "source": []
  },
  {
   "cell_type": "markdown",
   "metadata": {},
   "source": [
    "#### Prompt 6 - Create a table that shows how day of the week relates to the number of pickups\n",
    "\n",
    "------"
   ]
  },
  {
   "cell_type": "code",
   "execution_count": null,
   "metadata": {},
   "outputs": [],
   "source": []
  },
  {
   "cell_type": "markdown",
   "metadata": {},
   "source": [
    "#### Prompt 7 - Create a chart showing the insight from Prompt 5 using the `seaborn` package\n",
    "\n",
    "------"
   ]
  },
  {
   "cell_type": "code",
   "execution_count": null,
   "metadata": {},
   "outputs": [],
   "source": []
  },
  {
   "cell_type": "markdown",
   "metadata": {},
   "source": [
    "#### Prompt 8 - Create a chart showing how pickups are affected by some weather factor.  Include information about Borough in your chart.  Use the `plotly` package to create this chart\n",
    "\n",
    "-------"
   ]
  },
  {
   "cell_type": "code",
   "execution_count": null,
   "metadata": {},
   "outputs": [],
   "source": []
  },
  {
   "cell_type": "markdown",
   "metadata": {},
   "source": [
    "#### Prompt 9 - Interpret your chart from Prompt 8\n",
    "\n",
    "-------"
   ]
  },
  {
   "cell_type": "code",
   "execution_count": 1,
   "metadata": {},
   "outputs": [],
   "source": [
    "# Please answer #9 here as a comment (it makes it stand out for us to grade easier)\n",
    "#\n",
    "#"
   ]
  },
  {
   "cell_type": "markdown",
   "metadata": {},
   "source": [
    "#### Prompt 10 - Disconnect from the database\n",
    "\n",
    "-------"
   ]
  },
  {
   "cell_type": "code",
   "execution_count": null,
   "metadata": {},
   "outputs": [],
   "source": []
  }
 ],
 "metadata": {
  "kernelspec": {
   "display_name": "Python 3",
   "language": "python",
   "name": "python3"
  },
  "language_info": {
   "codemirror_mode": {
    "name": "ipython",
    "version": 3
   },
   "file_extension": ".py",
   "mimetype": "text/x-python",
   "name": "python",
   "nbconvert_exporter": "python",
   "pygments_lexer": "ipython3",
   "version": "3.11.5"
  },
  "orig_nbformat": 4
 },
 "nbformat": 4,
 "nbformat_minor": 2
}
