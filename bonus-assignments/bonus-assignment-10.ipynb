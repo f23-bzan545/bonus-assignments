{
 "cells": [
  {
   "cell_type": "markdown",
   "metadata": {},
   "source": [
    "## How are the vols scores affected by the weather at Neyland?\n",
    "\n",
    "<u>**Overall prompt: Make a chart showing how the temperature relates to the vols score.**</u>\n",
    "\n",
    "Ideally your python code gathers all the data, but not a requirement if you hit a big blocker.\n",
    "\n",
    "Use 1-4 below as guiding prompts."
   ]
  },
  {
   "cell_type": "code",
   "execution_count": null,
   "metadata": {},
   "outputs": [],
   "source": [
    "# Any needed libraries here"
   ]
  },
  {
   "cell_type": "markdown",
   "metadata": {},
   "source": [
    "#### 1. Find/gather data on Vols football attendance for 2022 and 2023 season (this and last season)\n",
    "  * We need fields for date, time (optional but ideal), and vols score\n",
    "    * We only want home games in the chart; either filter or flag home games\n",
    "  * I used `pd.read_html()` and wikipedia\n",
    "    * eg 2023's page: https://en.wikipedia.org/wiki/2023_Tennessee_Volunteers_football_team"
   ]
  },
  {
   "cell_type": "code",
   "execution_count": null,
   "metadata": {},
   "outputs": [],
   "source": [
    "# Use this cell to gather/clean data about the football scores"
   ]
  },
  {
   "cell_type": "markdown",
   "metadata": {},
   "source": [
    "My dataframe after this prompt looks like this:\n",
    "\n",
    "<center><img src=\"https://i.imgur.com/AhBLyxQ.png\" width=\"50%\"></center>\n",
    "\n",
    "Yours does not have to match exactly! Your needs for the chart are date/time and vols score (and time is optional!)."
   ]
  },
  {
   "cell_type": "markdown",
   "metadata": {},
   "source": [
    "#### 2. Find/gather historical weather data with a web API\n",
    "  * I used `requests.get()` and https://open-meteo.com/ but you can use other things"
   ]
  },
  {
   "cell_type": "code",
   "execution_count": null,
   "metadata": {},
   "outputs": [],
   "source": [
    "# gratis\n",
    "NEYLAND_LAT = \"35.95\"\n",
    "NEYLAND_LON = \"-83.92\""
   ]
  },
  {
   "cell_type": "code",
   "execution_count": null,
   "metadata": {},
   "outputs": [],
   "source": [
    "# Use this cell (and maybe others too) to gather weather data\n",
    "# related to the games of interest"
   ]
  },
  {
   "cell_type": "markdown",
   "metadata": {},
   "source": [
    "#### 3. How do the scores and temps relate?\n",
    "  * Calculate a correlation coefficient for temp vs score\n",
    "  * Make a plot of the temp vs score\n",
    "    * If you're feeling fancy; add the cor value to the plot title or other plot place"
   ]
  },
  {
   "cell_type": "code",
   "execution_count": null,
   "metadata": {},
   "outputs": [],
   "source": [
    "# Boom cor and plot code"
   ]
  },
  {
   "cell_type": "markdown",
   "metadata": {},
   "source": [
    "#### 4. Interpret the chart from 3\n",
    "\n",
    "Ideally your code does everything and you don't have to manually download things outside of \n",
    "\n",
    "Make sure you see your output before you save and commit! (ie you should see your plot when you submit so we can see it too without any work)."
   ]
  },
  {
   "cell_type": "code",
   "execution_count": null,
   "metadata": {},
   "outputs": [],
   "source": [
    "# Does temperature seem related to the scores?"
   ]
  }
 ],
 "metadata": {
  "kernelspec": {
   "display_name": "Python 3",
   "language": "python",
   "name": "python3"
  },
  "language_info": {
   "codemirror_mode": {
    "name": "ipython",
    "version": 3
   },
   "file_extension": ".py",
   "mimetype": "text/x-python",
   "name": "python",
   "nbconvert_exporter": "python",
   "pygments_lexer": "ipython3",
   "version": "3.11.5"
  }
 },
 "nbformat": 4,
 "nbformat_minor": 2
}
