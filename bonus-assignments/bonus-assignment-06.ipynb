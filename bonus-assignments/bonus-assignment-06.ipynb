{
 "cells": [
  {
   "cell_type": "markdown",
   "metadata": {},
   "source": [
    "**Please don't put any answers in markdown cells.**\n",
    "\n",
    "Grading is a hair easier when I know that your stuff is only in code cells and my stuff is only in markdown cells.  Sorry about any annoyances from having to type some responses as comments."
   ]
  },
  {
   "cell_type": "markdown",
   "metadata": {},
   "source": [
    "0. Load all libraries needed for your code in the cell below.\n",
    "\n",
    "> *Before you turn it in, make sure you aren't `import`ing anything that your code doesn't need.*"
   ]
  },
  {
   "cell_type": "code",
   "execution_count": null,
   "metadata": {},
   "outputs": [],
   "source": []
  },
  {
   "cell_type": "markdown",
   "metadata": {},
   "source": [
    "1. Read the data found at `data_url` into a `pandas` dataframe.\n",
    "\n",
    "> *Name the dataframe `subs` so that some starter code below will work for you.*"
   ]
  },
  {
   "cell_type": "code",
   "execution_count": null,
   "metadata": {},
   "outputs": [],
   "source": [
    "data_url = \"http://ballings.co/hidden/aCRM/data/chapter2/subscriptions.txt\"\n",
    "# subs = ???"
   ]
  },
  {
   "cell_type": "markdown",
   "metadata": {},
   "source": [
    "2. Show the `shape` and `head` of the data.\n",
    "\n",
    "> The below line of code is nice to know about (see [docs](https://pandas.pydata.org/docs/user_guide/options.html) for more).\n",
    "> \n",
    "> ```py\n",
    "> pd.options.display.max_columns = 999\n",
    "> ```"
   ]
  },
  {
   "cell_type": "code",
   "execution_count": null,
   "metadata": {},
   "outputs": [],
   "source": []
  },
  {
   "cell_type": "markdown",
   "metadata": {},
   "source": [
    "3. Ensure the `Pattern` variable is clean!\n",
    "\n",
    "> The data is for newspaper subscriptions.  `Pattern` indicates what days of the week we deliver to the customer;  it should be 7 digits.  Your data read likely converted the column to `int` which loses some of the digits.  Please fix.\n",
    ">\n",
    "> There should be seven digits in the `Pattern` to indicate each day of the week. The week starts on Monday. eg: `1000000` indicates delivery only on monday; eg: `0000001` indicates delivery only on sunday; eg: `1111111` indicates delivery on all days."
   ]
  },
  {
   "cell_type": "code",
   "execution_count": null,
   "metadata": {},
   "outputs": [],
   "source": []
  },
  {
   "cell_type": "markdown",
   "metadata": {},
   "source": [
    "4. What are the most popular `Patterns`? Show a table or graphic."
   ]
  },
  {
   "cell_type": "code",
   "execution_count": null,
   "metadata": {},
   "outputs": [],
   "source": []
  },
  {
   "cell_type": "markdown",
   "metadata": {},
   "source": [
    "5. How many records contain NAs in this data?"
   ]
  },
  {
   "cell_type": "code",
   "execution_count": null,
   "metadata": {},
   "outputs": [],
   "source": []
  },
  {
   "cell_type": "markdown",
   "metadata": {},
   "source": [
    "6. Which columns have the most NAs?"
   ]
  },
  {
   "cell_type": "code",
   "execution_count": null,
   "metadata": {},
   "outputs": [],
   "source": []
  },
  {
   "cell_type": "markdown",
   "metadata": {},
   "source": [
    "7. Create a subset of your data that shows the rows that contain any NAs\n",
    "\n",
    "> *display just the `head()` of these records*"
   ]
  },
  {
   "cell_type": "code",
   "execution_count": null,
   "metadata": {},
   "outputs": [],
   "source": []
  },
  {
   "cell_type": "markdown",
   "metadata": {},
   "source": [
    "8. Choose one of the columns that contains NAs and hypothesize what a missing value could mean in this context.\n",
    "\n",
    "> * Is it worrisome, just random data issues, or is there some pattern/context you think could explain them?\n",
    "> * Would we want to drop these records before doing any analysis? (add nuance as you'd like)\n",
    ">\n",
    "> *Big ole hint: there \\*is\\* a pattern of missingness for the records with missing values in the `TotalPrice` column.*"
   ]
  },
  {
   "cell_type": "code",
   "execution_count": null,
   "metadata": {},
   "outputs": [],
   "source": [
    "# Any code here:\n",
    "\n",
    "# (make sure it doesn't make a huge wall of output to scroll by)"
   ]
  },
  {
   "cell_type": "code",
   "execution_count": null,
   "metadata": {},
   "outputs": [],
   "source": [
    "# Written answer here:\n",
    "#\n",
    "#\n",
    "#\n",
    "#"
   ]
  },
  {
   "cell_type": "markdown",
   "metadata": {},
   "source": [
    "9. `str_subset` and `list_subset` are created for you below. Investigate the difference in how they each display, their `.head`'s, and their `.shape`s."
   ]
  },
  {
   "cell_type": "code",
   "execution_count": null,
   "metadata": {},
   "outputs": [],
   "source": [
    "str_subset = subs[\"TotalPrice\"].head(3)\n",
    "list_subset = subs[[\"TotalPrice\"]].head(3)"
   ]
  },
  {
   "cell_type": "code",
   "execution_count": null,
   "metadata": {},
   "outputs": [],
   "source": [
    "# Make sure to run this cell before changing any code to see the display\n",
    "str_subset"
   ]
  },
  {
   "cell_type": "code",
   "execution_count": null,
   "metadata": {},
   "outputs": [],
   "source": [
    "# Make sure to run this cell before changing any code to see the display\n",
    "list_subset"
   ]
  },
  {
   "cell_type": "markdown",
   "metadata": {},
   "source": [
    "10. Make a variable showing how long a customer has been with us in days.\n",
    "\n",
    ">   * I'll refer to this variable as \"`CustomerLifetimeDays`\" in future prompts.\n",
    ">   * *Make sure you don't ignore any warnings; read them and act on them as needed.*"
   ]
  },
  {
   "cell_type": "code",
   "execution_count": null,
   "metadata": {},
   "outputs": [],
   "source": []
  },
  {
   "cell_type": "markdown",
   "metadata": {},
   "source": [
    "11. Compute the quartiles, mean, and sd of `CustomerLifetimeDays`."
   ]
  },
  {
   "cell_type": "code",
   "execution_count": null,
   "metadata": {},
   "outputs": [],
   "source": []
  },
  {
   "cell_type": "markdown",
   "metadata": {},
   "source": [
    "12. Calculate the variance of `CustomerLifetimeDays`."
   ]
  },
  {
   "cell_type": "code",
   "execution_count": null,
   "metadata": {},
   "outputs": [],
   "source": []
  },
  {
   "cell_type": "markdown",
   "metadata": {},
   "source": [
    "13. Type out the math for calculating variance.\n",
    "\n",
    "> Use a markdown cell to answer! It should show the fancy math in the markdown. (i know, i know, this contradicts the note on the top of the file).  Your answer cell below holding a classic formula.\n",
    "\n",
    "Your answer:\n",
    "\n",
    "--------\n"
   ]
  },
  {
   "cell_type": "markdown",
   "metadata": {},
   "source": [
    "\n",
    "$$y = mx + b$$\n"
   ]
  },
  {
   "cell_type": "markdown",
   "metadata": {},
   "source": [
    "\n",
    "--------"
   ]
  },
  {
   "cell_type": "markdown",
   "metadata": {},
   "source": [
    "14. Show a histogram of `CustomerLifetimeDays`."
   ]
  },
  {
   "cell_type": "code",
   "execution_count": null,
   "metadata": {},
   "outputs": [],
   "source": []
  },
  {
   "cell_type": "markdown",
   "metadata": {},
   "source": [
    "15. Use your business knowledge (and math and stuff), to find a variable that is associated with `CustomerLifetimeDays`.\n",
    "    * A. Show some numeric evidence that there's a meaningful relationship between your selected variable and `CustomerLifetimeDays`.\n",
    "    * B. Create a plot that further proves there's a meaningful relationship between your variable and `CustomerLifetimeDays`.\n",
    "    * C.  Interpret the relationship between CustomerLifetimeDays and your variable."
   ]
  },
  {
   "cell_type": "code",
   "execution_count": null,
   "metadata": {},
   "outputs": [],
   "source": [
    "# A: Show some numeric evidence that there's a meaningful relationship\n",
    "#    between your selected variable and `CustomerLifetimeDays`."
   ]
  },
  {
   "cell_type": "code",
   "execution_count": null,
   "metadata": {},
   "outputs": [],
   "source": [
    "# B: Create a plot that further proves there's a meaningful relationship\n",
    "#    between your variable and `CustomerLifetimeDays`."
   ]
  },
  {
   "cell_type": "code",
   "execution_count": null,
   "metadata": {},
   "outputs": [],
   "source": [
    "# C: Interpret the relationship between CustomerLifetimeDays and your variable\n",
    "#\n",
    "#\n",
    "#\n",
    "#"
   ]
  }
 ],
 "metadata": {
  "kernelspec": {
   "display_name": "Python 3",
   "language": "python",
   "name": "python3"
  },
  "language_info": {
   "codemirror_mode": {
    "name": "ipython",
    "version": 3
   },
   "file_extension": ".py",
   "mimetype": "text/x-python",
   "name": "python",
   "nbconvert_exporter": "python",
   "pygments_lexer": "ipython3",
   "version": "3.11.5"
  },
  "orig_nbformat": 4
 },
 "nbformat": 4,
 "nbformat_minor": 2
}
